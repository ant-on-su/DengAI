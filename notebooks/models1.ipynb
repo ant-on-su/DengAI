{
 "cells": [
  {
   "cell_type": "markdown",
   "metadata": {},
   "source": [
    "# Play with first models"
   ]
  },
  {
   "cell_type": "code",
   "execution_count": 87,
   "metadata": {},
   "outputs": [],
   "source": [
    "import pandas as pd\n",
    "#get data:\n",
    "file_features = 'dengue_features_train.csv'\n",
    "file_labels = 'dengue_labels_train.csv'\n",
    "\n",
    "df_features = pd.read_csv(\"../data/\"+file_features)\n",
    "df_labels = pd.read_csv(\"../data/\"+file_labels)\n",
    "\n",
    "#split data initially for train-validation and TEST:\n",
    "from sklearn.model_selection import train_test_split\n",
    "X = df_features\n",
    "y = df_labels\n",
    "X_train, X_test, y_train, y_test = train_test_split(X, y, test_size=0.2)"
   ]
  },
  {
   "cell_type": "markdown",
   "metadata": {},
   "source": [
    "# Begin transformation pipeline:"
   ]
  },
  {
   "cell_type": "code",
   "execution_count": 85,
   "metadata": {},
   "outputs": [
    {
     "name": "stderr",
     "output_type": "stream",
     "text": [
      "/home/ant_on_su/miniconda3/lib/python3.7/site-packages/pandas/core/indexing.py:543: SettingWithCopyWarning: \n",
      "A value is trying to be set on a copy of a slice from a DataFrame.\n",
      "Try using .loc[row_indexer,col_indexer] = value instead\n",
      "\n",
      "See the caveats in the documentation: http://pandas.pydata.org/pandas-docs/stable/indexing.html#indexing-view-versus-copy\n",
      "  self.obj[item] = s\n",
      "/home/ant_on_su/miniconda3/lib/python3.7/site-packages/pandas/core/frame.py:3697: SettingWithCopyWarning: \n",
      "A value is trying to be set on a copy of a slice from a DataFrame\n",
      "\n",
      "See the caveats in the documentation: http://pandas.pydata.org/pandas-docs/stable/indexing.html#indexing-view-versus-copy\n",
      "  errors=errors)\n"
     ]
    }
   ],
   "source": [
    "#fix date, drop extras\n",
    "X_train.loc[:, 'week_start_date'] = pd.to_datetime(X_train.loc[:, 'week_start_date'], yearfirst=True)\n",
    "X_train.drop(['year', 'weekofyear'], axis=1, inplace=True)\n",
    "y_train.drop(['city', 'year', 'weekofyear'], axis=1, inplace=True)"
   ]
  },
  {
   "cell_type": "code",
   "execution_count": 86,
   "metadata": {},
   "outputs": [
    {
     "name": "stderr",
     "output_type": "stream",
     "text": [
      "/home/ant_on_su/miniconda3/lib/python3.7/site-packages/pandas/core/frame.py:3790: SettingWithCopyWarning: \n",
      "A value is trying to be set on a copy of a slice from a DataFrame\n",
      "\n",
      "See the caveats in the documentation: http://pandas.pydata.org/pandas-docs/stable/indexing.html#indexing-view-versus-copy\n",
      "  downcast=downcast, **kwargs)\n"
     ]
    }
   ],
   "source": [
    "#fill NANs\n",
    "X_train.fillna(method='ffill', inplace=True)"
   ]
  },
  {
   "cell_type": "code",
   "execution_count": 9,
   "metadata": {},
   "outputs": [],
   "source": [
    "#One-hot ecode 'city'\n",
    "X_train = pd.get_dummies(X_train)"
   ]
  },
  {
   "cell_type": "code",
   "execution_count": 10,
   "metadata": {},
   "outputs": [
    {
     "data": {
      "text/html": [
       "<div>\n",
       "<style scoped>\n",
       "    .dataframe tbody tr th:only-of-type {\n",
       "        vertical-align: middle;\n",
       "    }\n",
       "\n",
       "    .dataframe tbody tr th {\n",
       "        vertical-align: top;\n",
       "    }\n",
       "\n",
       "    .dataframe thead th {\n",
       "        text-align: right;\n",
       "    }\n",
       "</style>\n",
       "<table border=\"1\" class=\"dataframe\">\n",
       "  <thead>\n",
       "    <tr style=\"text-align: right;\">\n",
       "      <th></th>\n",
       "      <th>week_start_date</th>\n",
       "      <th>ndvi_ne</th>\n",
       "      <th>ndvi_nw</th>\n",
       "      <th>ndvi_se</th>\n",
       "      <th>ndvi_sw</th>\n",
       "      <th>precipitation_amt_mm</th>\n",
       "      <th>reanalysis_air_temp_k</th>\n",
       "      <th>reanalysis_avg_temp_k</th>\n",
       "      <th>reanalysis_dew_point_temp_k</th>\n",
       "      <th>reanalysis_max_air_temp_k</th>\n",
       "      <th>...</th>\n",
       "      <th>reanalysis_sat_precip_amt_mm</th>\n",
       "      <th>reanalysis_specific_humidity_g_per_kg</th>\n",
       "      <th>reanalysis_tdtr_k</th>\n",
       "      <th>station_avg_temp_c</th>\n",
       "      <th>station_diur_temp_rng_c</th>\n",
       "      <th>station_max_temp_c</th>\n",
       "      <th>station_min_temp_c</th>\n",
       "      <th>station_precip_mm</th>\n",
       "      <th>city_iq</th>\n",
       "      <th>city_sj</th>\n",
       "    </tr>\n",
       "  </thead>\n",
       "  <tbody>\n",
       "    <tr>\n",
       "      <th>1417</th>\n",
       "      <td>2009-10-01</td>\n",
       "      <td>0.206300</td>\n",
       "      <td>0.255257</td>\n",
       "      <td>0.279957</td>\n",
       "      <td>0.206657</td>\n",
       "      <td>57.18</td>\n",
       "      <td>298.034286</td>\n",
       "      <td>299.571429</td>\n",
       "      <td>296.344286</td>\n",
       "      <td>307.4</td>\n",
       "      <td>...</td>\n",
       "      <td>57.18</td>\n",
       "      <td>17.947143</td>\n",
       "      <td>8.514286</td>\n",
       "      <td>27.950000</td>\n",
       "      <td>12.225000</td>\n",
       "      <td>35.2</td>\n",
       "      <td>20.5</td>\n",
       "      <td>33.1</td>\n",
       "      <td>1</td>\n",
       "      <td>0</td>\n",
       "    </tr>\n",
       "    <tr>\n",
       "      <th>446</th>\n",
       "      <td>1998-11-26</td>\n",
       "      <td>0.050100</td>\n",
       "      <td>0.065750</td>\n",
       "      <td>0.166243</td>\n",
       "      <td>0.146757</td>\n",
       "      <td>0.00</td>\n",
       "      <td>299.232857</td>\n",
       "      <td>299.321429</td>\n",
       "      <td>295.492857</td>\n",
       "      <td>301.4</td>\n",
       "      <td>...</td>\n",
       "      <td>0.00</td>\n",
       "      <td>16.867143</td>\n",
       "      <td>2.014286</td>\n",
       "      <td>26.557143</td>\n",
       "      <td>5.685714</td>\n",
       "      <td>30.0</td>\n",
       "      <td>22.8</td>\n",
       "      <td>29.8</td>\n",
       "      <td>0</td>\n",
       "      <td>1</td>\n",
       "    </tr>\n",
       "    <tr>\n",
       "      <th>936</th>\n",
       "      <td>2000-07-01</td>\n",
       "      <td>0.192886</td>\n",
       "      <td>0.132257</td>\n",
       "      <td>0.340886</td>\n",
       "      <td>0.247200</td>\n",
       "      <td>25.41</td>\n",
       "      <td>296.740000</td>\n",
       "      <td>298.450000</td>\n",
       "      <td>295.184286</td>\n",
       "      <td>307.3</td>\n",
       "      <td>...</td>\n",
       "      <td>25.41</td>\n",
       "      <td>16.651429</td>\n",
       "      <td>8.928571</td>\n",
       "      <td>26.400000</td>\n",
       "      <td>10.775000</td>\n",
       "      <td>32.5</td>\n",
       "      <td>20.7</td>\n",
       "      <td>3.0</td>\n",
       "      <td>1</td>\n",
       "      <td>0</td>\n",
       "    </tr>\n",
       "    <tr>\n",
       "      <th>1032</th>\n",
       "      <td>2002-05-07</td>\n",
       "      <td>0.227257</td>\n",
       "      <td>0.178243</td>\n",
       "      <td>0.177386</td>\n",
       "      <td>0.210114</td>\n",
       "      <td>101.30</td>\n",
       "      <td>297.355714</td>\n",
       "      <td>298.435714</td>\n",
       "      <td>296.444286</td>\n",
       "      <td>304.4</td>\n",
       "      <td>...</td>\n",
       "      <td>101.30</td>\n",
       "      <td>18.024286</td>\n",
       "      <td>8.042857</td>\n",
       "      <td>27.500000</td>\n",
       "      <td>11.525000</td>\n",
       "      <td>34.0</td>\n",
       "      <td>21.3</td>\n",
       "      <td>25.4</td>\n",
       "      <td>1</td>\n",
       "      <td>0</td>\n",
       "    </tr>\n",
       "    <tr>\n",
       "      <th>495</th>\n",
       "      <td>1999-11-05</td>\n",
       "      <td>0.062750</td>\n",
       "      <td>0.103400</td>\n",
       "      <td>0.173457</td>\n",
       "      <td>0.165883</td>\n",
       "      <td>4.84</td>\n",
       "      <td>299.960000</td>\n",
       "      <td>299.942857</td>\n",
       "      <td>296.531429</td>\n",
       "      <td>302.0</td>\n",
       "      <td>...</td>\n",
       "      <td>4.84</td>\n",
       "      <td>18.014286</td>\n",
       "      <td>1.885714</td>\n",
       "      <td>27.442857</td>\n",
       "      <td>6.542857</td>\n",
       "      <td>32.2</td>\n",
       "      <td>23.9</td>\n",
       "      <td>40.9</td>\n",
       "      <td>0</td>\n",
       "      <td>1</td>\n",
       "    </tr>\n",
       "  </tbody>\n",
       "</table>\n",
       "<p>5 rows × 23 columns</p>\n",
       "</div>"
      ],
      "text/plain": [
       "     week_start_date   ndvi_ne   ndvi_nw   ndvi_se   ndvi_sw  \\\n",
       "1417      2009-10-01  0.206300  0.255257  0.279957  0.206657   \n",
       "446       1998-11-26  0.050100  0.065750  0.166243  0.146757   \n",
       "936       2000-07-01  0.192886  0.132257  0.340886  0.247200   \n",
       "1032      2002-05-07  0.227257  0.178243  0.177386  0.210114   \n",
       "495       1999-11-05  0.062750  0.103400  0.173457  0.165883   \n",
       "\n",
       "      precipitation_amt_mm  reanalysis_air_temp_k  reanalysis_avg_temp_k  \\\n",
       "1417                 57.18             298.034286             299.571429   \n",
       "446                   0.00             299.232857             299.321429   \n",
       "936                  25.41             296.740000             298.450000   \n",
       "1032                101.30             297.355714             298.435714   \n",
       "495                   4.84             299.960000             299.942857   \n",
       "\n",
       "      reanalysis_dew_point_temp_k  reanalysis_max_air_temp_k   ...     \\\n",
       "1417                   296.344286                      307.4   ...      \n",
       "446                    295.492857                      301.4   ...      \n",
       "936                    295.184286                      307.3   ...      \n",
       "1032                   296.444286                      304.4   ...      \n",
       "495                    296.531429                      302.0   ...      \n",
       "\n",
       "      reanalysis_sat_precip_amt_mm  reanalysis_specific_humidity_g_per_kg  \\\n",
       "1417                         57.18                              17.947143   \n",
       "446                           0.00                              16.867143   \n",
       "936                          25.41                              16.651429   \n",
       "1032                        101.30                              18.024286   \n",
       "495                           4.84                              18.014286   \n",
       "\n",
       "      reanalysis_tdtr_k  station_avg_temp_c  station_diur_temp_rng_c  \\\n",
       "1417           8.514286           27.950000                12.225000   \n",
       "446            2.014286           26.557143                 5.685714   \n",
       "936            8.928571           26.400000                10.775000   \n",
       "1032           8.042857           27.500000                11.525000   \n",
       "495            1.885714           27.442857                 6.542857   \n",
       "\n",
       "      station_max_temp_c  station_min_temp_c  station_precip_mm  city_iq  \\\n",
       "1417                35.2                20.5               33.1        1   \n",
       "446                 30.0                22.8               29.8        0   \n",
       "936                 32.5                20.7                3.0        1   \n",
       "1032                34.0                21.3               25.4        1   \n",
       "495                 32.2                23.9               40.9        0   \n",
       "\n",
       "      city_sj  \n",
       "1417        0  \n",
       "446         1  \n",
       "936         0  \n",
       "1032        0  \n",
       "495         1  \n",
       "\n",
       "[5 rows x 23 columns]"
      ]
     },
     "execution_count": 10,
     "metadata": {},
     "output_type": "execute_result"
    }
   ],
   "source": [
    "X_train.head()"
   ]
  },
  {
   "cell_type": "code",
   "execution_count": 11,
   "metadata": {},
   "outputs": [
    {
     "data": {
      "text/plain": [
       "week_start_date                          datetime64[ns]\n",
       "ndvi_ne                                         float64\n",
       "ndvi_nw                                         float64\n",
       "ndvi_se                                         float64\n",
       "ndvi_sw                                         float64\n",
       "precipitation_amt_mm                            float64\n",
       "reanalysis_air_temp_k                           float64\n",
       "reanalysis_avg_temp_k                           float64\n",
       "reanalysis_dew_point_temp_k                     float64\n",
       "reanalysis_max_air_temp_k                       float64\n",
       "reanalysis_min_air_temp_k                       float64\n",
       "reanalysis_precip_amt_kg_per_m2                 float64\n",
       "reanalysis_relative_humidity_percent            float64\n",
       "reanalysis_sat_precip_amt_mm                    float64\n",
       "reanalysis_specific_humidity_g_per_kg           float64\n",
       "reanalysis_tdtr_k                               float64\n",
       "station_avg_temp_c                              float64\n",
       "station_diur_temp_rng_c                         float64\n",
       "station_max_temp_c                              float64\n",
       "station_min_temp_c                              float64\n",
       "station_precip_mm                               float64\n",
       "city_iq                                           uint8\n",
       "city_sj                                           uint8\n",
       "dtype: object"
      ]
     },
     "execution_count": 11,
     "metadata": {},
     "output_type": "execute_result"
    }
   ],
   "source": [
    "X_train.dtypes"
   ]
  },
  {
   "cell_type": "markdown",
   "metadata": {},
   "source": [
    "# model1: GBReg"
   ]
  },
  {
   "cell_type": "code",
   "execution_count": 88,
   "metadata": {},
   "outputs": [
    {
     "name": "stderr",
     "output_type": "stream",
     "text": [
      "/home/ant_on_su/miniconda3/lib/python3.7/site-packages/pandas/core/generic.py:4405: SettingWithCopyWarning: \n",
      "A value is trying to be set on a copy of a slice from a DataFrame.\n",
      "Try using .loc[row_indexer,col_indexer] = value instead\n",
      "\n",
      "See the caveats in the documentation: http://pandas.pydata.org/pandas-docs/stable/indexing.html#indexing-view-versus-copy\n",
      "  self[name] = value\n"
     ]
    }
   ],
   "source": [
    "#TODO: find more elegant way\n",
    "X_test.drop(['week_start_date'], axis=1, inplace=True)\n",
    "X_train.drop(['week_start_date'], axis=1, inplace=True)\n",
    "X_train.city = X_train.city.map({'sj':0, 'iq':1})\n",
    "X_test.city = X_test.city.map({'sj':0, 'iq':1})"
   ]
  },
  {
   "cell_type": "code",
   "execution_count": 89,
   "metadata": {},
   "outputs": [],
   "source": [
    "X_test.fillna(value=0, inplace=True)\n",
    "X_train.fillna(value=0, inplace=True)"
   ]
  },
  {
   "cell_type": "code",
   "execution_count": 90,
   "metadata": {},
   "outputs": [],
   "source": [
    "y_test = y_test.iloc[:,-1]\n",
    "y_train = y_train.iloc[:,-1]"
   ]
  },
  {
   "cell_type": "code",
   "execution_count": 115,
   "metadata": {},
   "outputs": [
    {
     "name": "stdout",
     "output_type": "stream",
     "text": [
      "MAE: 11.4829\n"
     ]
    }
   ],
   "source": [
    "from sklearn import ensemble\n",
    "from sklearn.metrics import mean_absolute_error\n",
    "#Fit regression model\n",
    "params = {'n_estimators': 500, 'max_depth': 8, 'min_samples_split': 2,\n",
    "          'learning_rate': 0.01, 'loss': 'ls'}\n",
    "clf = ensemble.GradientBoostingRegressor(**params)\n",
    "\n",
    "clf.fit(X_train, y_train)\n",
    "mse = mean_absolute_error(y_test, clf.predict(X_test).astype('int'))\n",
    "print(\"MAE: %.4f\" % mse)"
   ]
  },
  {
   "cell_type": "markdown",
   "metadata": {},
   "source": [
    "## Make Submittion"
   ]
  },
  {
   "cell_type": "code",
   "execution_count": 143,
   "metadata": {},
   "outputs": [],
   "source": [
    "df_TEST = pd.read_csv(\"../data/dengue_features_test.csv\")\n",
    "df_TEST.drop(['week_start_date'], axis=1, inplace=True)\n",
    "df_TEST.fillna(value=0, inplace=True)\n",
    "df_TEST.city = df_TEST.city.map({'sj':0, 'iq':1})\n",
    "PRED = clf.predict(df_TEST).astype('int')"
   ]
  },
  {
   "cell_type": "code",
   "execution_count": 144,
   "metadata": {},
   "outputs": [],
   "source": [
    "df_PRED = df_TEST.iloc[:,:3]\n",
    "df_PRED.city = df_PRED.city.map({0:'sj', 1:'iq'})\n",
    "df_PRED['total_cases'] = pd.Series(PRED)"
   ]
  },
  {
   "cell_type": "code",
   "execution_count": 145,
   "metadata": {},
   "outputs": [
    {
     "data": {
      "text/html": [
       "<div>\n",
       "<style scoped>\n",
       "    .dataframe tbody tr th:only-of-type {\n",
       "        vertical-align: middle;\n",
       "    }\n",
       "\n",
       "    .dataframe tbody tr th {\n",
       "        vertical-align: top;\n",
       "    }\n",
       "\n",
       "    .dataframe thead th {\n",
       "        text-align: right;\n",
       "    }\n",
       "</style>\n",
       "<table border=\"1\" class=\"dataframe\">\n",
       "  <thead>\n",
       "    <tr style=\"text-align: right;\">\n",
       "      <th></th>\n",
       "      <th>city</th>\n",
       "      <th>year</th>\n",
       "      <th>weekofyear</th>\n",
       "      <th>total_cases</th>\n",
       "    </tr>\n",
       "  </thead>\n",
       "  <tbody>\n",
       "    <tr>\n",
       "      <th>0</th>\n",
       "      <td>sj</td>\n",
       "      <td>2008</td>\n",
       "      <td>18</td>\n",
       "      <td>4</td>\n",
       "    </tr>\n",
       "    <tr>\n",
       "      <th>1</th>\n",
       "      <td>sj</td>\n",
       "      <td>2008</td>\n",
       "      <td>19</td>\n",
       "      <td>7</td>\n",
       "    </tr>\n",
       "    <tr>\n",
       "      <th>2</th>\n",
       "      <td>sj</td>\n",
       "      <td>2008</td>\n",
       "      <td>20</td>\n",
       "      <td>4</td>\n",
       "    </tr>\n",
       "    <tr>\n",
       "      <th>3</th>\n",
       "      <td>sj</td>\n",
       "      <td>2008</td>\n",
       "      <td>21</td>\n",
       "      <td>6</td>\n",
       "    </tr>\n",
       "    <tr>\n",
       "      <th>4</th>\n",
       "      <td>sj</td>\n",
       "      <td>2008</td>\n",
       "      <td>22</td>\n",
       "      <td>13</td>\n",
       "    </tr>\n",
       "  </tbody>\n",
       "</table>\n",
       "</div>"
      ],
      "text/plain": [
       "  city  year  weekofyear  total_cases\n",
       "0   sj  2008          18            4\n",
       "1   sj  2008          19            7\n",
       "2   sj  2008          20            4\n",
       "3   sj  2008          21            6\n",
       "4   sj  2008          22           13"
      ]
     },
     "execution_count": 145,
     "metadata": {},
     "output_type": "execute_result"
    }
   ],
   "source": [
    "df_PRED.head()"
   ]
  },
  {
   "cell_type": "code",
   "execution_count": 147,
   "metadata": {},
   "outputs": [],
   "source": [
    "df_PRED.to_csv(\"../output/PRED_gbreg.csv\", index=False)"
   ]
  }
 ],
 "metadata": {
  "kernelspec": {
   "display_name": "Python 3",
   "language": "python",
   "name": "python3"
  },
  "language_info": {
   "codemirror_mode": {
    "name": "ipython",
    "version": 3
   },
   "file_extension": ".py",
   "mimetype": "text/x-python",
   "name": "python",
   "nbconvert_exporter": "python",
   "pygments_lexer": "ipython3",
   "version": "3.7.0"
  }
 },
 "nbformat": 4,
 "nbformat_minor": 2
}
